{
 "cells": [
  {
   "cell_type": "markdown",
   "metadata": {},
   "source": [
    "# Project 1: MinHash and finding similar items\n",
    "\n",
    "## Part 1: Jaccard Similarity and Shingles"
   ]
  },
  {
   "cell_type": "code",
   "execution_count": 1,
   "metadata": {},
   "outputs": [],
   "source": [
    "# this piece of code is here to help wiht development using python module `plagiarism_lib`\n",
    "%load_ext autoreload\n",
    "%autoreload 2"
   ]
  },
  {
   "cell_type": "markdown",
   "metadata": {},
   "source": [
    "The `plagiarism_lib` module includes a function to shingle documents. Here is an example of how to use it:"
   ]
  },
  {
   "cell_type": "code",
   "execution_count": 2,
   "metadata": {},
   "outputs": [
    {
     "name": "stdout",
     "output_type": "stream",
     "text": [
      "{'ca', 'ha', 'nt', 'eh', 'he', 'ec', 'th', 'ti', 'in', 'at'}\n"
     ]
    }
   ],
   "source": [
    "import plagiarism_lib.article_db as art_db\n",
    "\n",
    "shingles = art_db._shingle_text('The cat in the hat', 2)\n",
    "print(shingles)"
   ]
  },
  {
   "cell_type": "markdown",
   "metadata": {},
   "source": [
    "Use this function to answer the following questions"
   ]
  },
  {
   "cell_type": "code",
   "execution_count": 3,
   "metadata": {},
   "outputs": [
    {
     "data": {
      "text/plain": [
       "0.4782608695652174"
      ]
     },
     "execution_count": 3,
     "metadata": {},
     "output_type": "execute_result"
    }
   ],
   "source": [
    "# question 1: What is the jaccard similarity of these two sentences using 2-shingles:\n",
    "s1 = \"I would drink black tea\"\n",
    "s2 = \"I would drink green tea\"\n",
    "\n",
    "sh1 = art_db._shingle_text(s1, 2)\n",
    "sh2 = art_db._shingle_text(s2, 2)\n",
    "\n",
    "len(sh1.intersection(sh2)) / len(sh1.union(sh2))"
   ]
  },
  {
   "cell_type": "code",
   "execution_count": 4,
   "metadata": {},
   "outputs": [
    {
     "data": {
      "text/plain": [
       "1.0"
      ]
     },
     "execution_count": 4,
     "metadata": {},
     "output_type": "execute_result"
    }
   ],
   "source": [
    "# question 2: What is the jaccard similarity of these two sentences using 2-shingles:\n",
    "s1 = \"I would drink green tea but I would not drink black tea\"\n",
    "s2 = \"I would not drink green tea but I would drink black tea\"\n",
    "\n",
    "sh1 = art_db._shingle_text(s1, 2)\n",
    "sh2 = art_db._shingle_text(s2, 2)\n",
    "\n",
    "len(sh1.intersection(sh2)) / len(sh1.union(sh2))"
   ]
  },
  {
   "cell_type": "code",
   "execution_count": 5,
   "metadata": {},
   "outputs": [
    {
     "name": "stdout",
     "output_type": "stream",
     "text": [
      "0.8974358974358975\n",
      "The shingle has to be a length of at least 7 to distinguish between the two sentences\n"
     ]
    }
   ],
   "source": [
    "# question 3, what is the smallest shingle length we need to use \n",
    "# to distinguish these two sentences\n",
    "\n",
    "s1 = \"I would drink green tea but I would not drink black tea\"\n",
    "s2 = \"I would not drink green tea but I would drink black tea\"\n",
    "\n",
    "sh1 = art_db._shingle_text(s1, 7)\n",
    "sh2 = art_db._shingle_text(s2, 7)\n",
    "\n",
    "print(len(sh1.intersection(sh2)) / len(sh1.union(sh2)))\n",
    "print('The shingle has to be a length of at least 7 to distinguish between the two sentences')"
   ]
  },
  {
   "cell_type": "markdown",
   "metadata": {},
   "source": [
    "## Fetch data\n",
    "\n",
    "Run the following piece of code to fetch data to use in the project, and to setup experiment code"
   ]
  },
  {
   "cell_type": "code",
   "execution_count": 6,
   "metadata": {},
   "outputs": [],
   "source": [
    "import plagiarism_lib.fetch_data as fetch\n",
    "import plagiarism_lib.jaccard_experiment as jaccard_exp\n",
    "\n",
    "import pandas as pd"
   ]
  },
  {
   "cell_type": "code",
   "execution_count": 7,
   "metadata": {},
   "outputs": [],
   "source": [
    "# fetch small dataset from data repository\n",
    "DATA_PATH = 'data'\n",
    "\n",
    "fetch.fetch_data(path=DATA_PATH, maxsize=1000)"
   ]
  },
  {
   "cell_type": "code",
   "execution_count": 8,
   "metadata": {},
   "outputs": [],
   "source": [
    "DATA_PATH = 'data'\n",
    "train_file = DATA_PATH + '/articles_1000.train'\n",
    "truth_file = DATA_PATH + '/articles_1000.truth'\n",
    "numDocs = 1000\n",
    "numHashes = 10\n",
    "import os\n",
    "\n",
    "RESDIR_PATH = 'result_data'\n",
    "if not os.path.isdir(RESDIR_PATH):\n",
    "    os.mkdir(RESDIR_PATH)\n",
    "    \n",
    "jaccard_exp_csv = RESDIR_PATH + '/jaccard_exp_res.csv'"
   ]
  },
  {
   "cell_type": "code",
   "execution_count": 9,
   "metadata": {},
   "outputs": [],
   "source": [
    "DATA_PATH = 'data'\n",
    "train_file = DATA_PATH + '/articles_1000.train'\n",
    "truth_file = DATA_PATH + '/articles_1000.truth'\n",
    "\n",
    "import os\n",
    "\n",
    "RESDIR_PATH = 'result_data'\n",
    "if not os.path.isdir(RESDIR_PATH):\n",
    "    os.mkdir(RESDIR_PATH)\n",
    "    \n",
    "jaccard_exp_csv = RESDIR_PATH + '/jaccard_exp_res.csv'"
   ]
  },
  {
   "cell_type": "markdown",
   "metadata": {},
   "source": [
    "## Jaccard similarity\n",
    "\n",
    "**TODO** Finish implementing the function `plagiarism_lib.jaccard._jaccard_similarity` to compute the Jaccard Similarity of two sets.\n",
    "\n",
    "Once you do that run the next chunk to perform an experiment on the effect of shard-length $k$ on Jaccard similarity of\n",
    "plagiarism instances versus instances that are not plagiarized.\n",
    "\n",
    "Make sure you set `RUN_JACCARD_EXP = True` to get your experiment data\n"
   ]
  },
  {
   "cell_type": "code",
   "execution_count": 10,
   "metadata": {},
   "outputs": [
    {
     "data": {
      "text/plain": [
       "0.8260869565217391"
      ]
     },
     "execution_count": 10,
     "metadata": {},
     "output_type": "execute_result"
    }
   ],
   "source": [
    "s1 = train_file\n",
    "s2 = truth_file\n",
    "\n",
    "sh1 = art_db._shingle_text(s1, 2)\n",
    "sh2 = art_db._shingle_text(s2, 2)\n",
    "\n",
    "len(sh1.intersection(sh2)) / len(sh1.union(sh2))"
   ]
  },
  {
   "cell_type": "code",
   "execution_count": 11,
   "metadata": {},
   "outputs": [
    {
     "name": "stdout",
     "output_type": "stream",
     "text": [
      "Processing data for k= 2\n",
      "Processing data for k= 5\n",
      "Processing data for k= 10\n",
      "Processing data for k= 20\n",
      "Processing data for k= 40\n",
      "Processing data for k= 60\n",
      "Processing data for k= 120\n"
     ]
    }
   ],
   "source": [
    "# run this if needed\n",
    "RUN_JACCARD_EXP = True\n",
    "if RUN_JACCARD_EXP:\n",
    "    exp_res = jaccard_exp.run_experiment(train_file, truth_file)\n",
    "    exp_res.to_csv(jaccard_exp_csv, index=False)\n",
    "else:\n",
    "    exp_res = pd.read_csv(jaccard_exp_csv)"
   ]
  },
  {
   "cell_type": "markdown",
   "metadata": {},
   "source": [
    "The following code makes a plot with $k$ in the x-axis and average Jaccard similarity in the y-axis with two lines:\n",
    "one for plagiarism instances, one for instances that are not plagiarism."
   ]
  },
  {
   "cell_type": "code",
   "execution_count": 12,
   "metadata": {},
   "outputs": [
    {
     "data": {
      "image/png": "[encoded data removed]",
      "text/plain": [
       "<Figure size 432x288 with 1 Axes>"
      ]
     },
     "metadata": {
      "needs_background": "light"
     },
     "output_type": "display_data"
    }
   ],
   "source": [
    "%matplotlib inline\n",
    "\n",
    "import matplotlib.pyplot as plt\n",
    "\n",
    "# start here just to make plot\n",
    "plot_df = exp_res.melt(id_vars=['k'])\n",
    "\n",
    "fig, ax = plt.subplots()\n",
    "labels = []\n",
    "\n",
    "for key, grp in plot_df.groupby('variable'):\n",
    "    ax = grp.plot(ax=ax, kind='line', x='k', y='value')\n",
    "    labels.append(key)\n",
    "lines, _ = ax.get_legend_handles_labels()\n",
    "ax.legend(lines, labels, loc='best')\n",
    "plt.show()"
   ]
  },
  {
   "cell_type": "markdown",
   "metadata": {},
   "source": [
    "**TODO**: Comment on what you observe from this experiment.\n",
    " \n",
    "As k increases the similarity score of non-matches decreases until k=~10 when the score becomes zero. However, as k increases the similarity score of matches linearly decreases. This means that the results are optimized at a certain value for k(in this case 10) and past this point there are no gains for distinguishing between non-matches, but there will be a loss in accurately distinguishing between matches. \n",
    " "
   ]
  },
  {
   "cell_type": "markdown",
   "metadata": {},
   "source": [
    "## Part 2: MinHash and Jaccard Similarity\n",
    "\n",
    "Load article data, preprocess it and shingle articles with length $k=10$\n",
    "\n"
   ]
  },
  {
   "cell_type": "code",
   "execution_count": 13,
   "metadata": {},
   "outputs": [],
   "source": [
    "from plagiarism_lib.article_db import ArticleDB\n",
    "\n",
    "artdb = ArticleDB(train_file)\n",
    "exp_data = artdb.shingle_data(k=10)"
   ]
  },
  {
   "cell_type": "markdown",
   "metadata": {},
   "source": [
    "Compute Jaccard similarities for pairs of articles in corpus. Set `RUN_MAKE_JS_DF=True` to prepare data on Jaccard similarity for our experiment."
   ]
  },
  {
   "cell_type": "code",
   "execution_count": 14,
   "metadata": {},
   "outputs": [],
   "source": [
    "import plagiarism_lib.minhash_experiment as minhash_exp\n",
    "import pandas as pd\n",
    "\n",
    "js_csv_file = RESDIR_PATH + '/js_df.csv'\n",
    "\n",
    "# Switch True/False to run as needed\n",
    "RUN_MAKE_JS_DF = True\n",
    "\n",
    "if RUN_MAKE_JS_DF:\n",
    "    exp_df = minhash_exp.make_js_df(exp_data, artdb._docids)\n",
    "    exp_df.to_csv(js_csv_file, index=False)\n",
    "else:\n",
    "    exp_df = pd.read_csv(js_csv_file)"
   ]
  },
  {
   "cell_type": "markdown",
   "metadata": {},
   "source": [
    "**TODO**: Finish implementing function `plagiarism_lib.minhash._make_minhash_sigmatrix` to construct the minhash signature matrix of the document collection.\n",
    "\n",
    "**TODO**: Finish implementing function `plagiarism_lib.minhash.MinHash.get_similarity` to compute the minhash estimate of Jaccard similarity given two minhash signatures."
   ]
  },
  {
   "cell_type": "markdown",
   "metadata": {},
   "source": [
    "Once you have completed the above todos, let's compute minhash similarity matrices with varying number of hash functions and compute Jaccard similarity estimates. Set `RUN_MAKE_MH_DF=True` and run the following chunk."
   ]
  },
  {
   "cell_type": "code",
   "execution_count": 15,
   "metadata": {},
   "outputs": [
    {
     "name": "stdout",
     "output_type": "stream",
     "text": [
      "Doing minhash for  10  hashes\n",
      "Doing minhash for  20  hashes\n",
      "Doing minhash for  50  hashes\n",
      "Doing minhash for  100  hashes\n"
     ]
    }
   ],
   "source": [
    "mh_csv_file = RESDIR_PATH + '/mh_df.csv'\n",
    "\n",
    "hash_vals = [10, 20, 50, 100]\n",
    "RUN_MAKE_MH_DF = True\n",
    "if RUN_MAKE_MH_DF:\n",
    "    minhash_exp.run(exp_data, exp_df, hash_vals=hash_vals)\n",
    "    exp_df.to_csv(mh_csv_file, index=False)\n",
    "else:\n",
    "    exp_df = pd.read_csv(mh_csv_file)"
   ]
  },
  {
   "cell_type": "markdown",
   "metadata": {},
   "source": [
    "The following chunk computes the error of minhash similarity estimates. We are going to use that to see what the effect of the number of hashes used in the minhash signature affects the error of the MinHash estimate of Jaccard similarity.\n"
   ]
  },
  {
   "cell_type": "code",
   "execution_count": 16,
   "metadata": {},
   "outputs": [],
   "source": [
    "rmse_df = minhash_exp.post_process_df(exp_df, hash_vals)"
   ]
  },
  {
   "cell_type": "markdown",
   "metadata": {},
   "source": [
    "The following chunk plots root mean squared error between minhash JS estimate and exact Jaccard similarity"
   ]
  },
  {
   "cell_type": "code",
   "execution_count": 17,
   "metadata": {},
   "outputs": [
    {
     "data": {
      "image/png": "[encoded data removed]",
      "text/plain": [
       "<Figure size 432x288 with 1 Axes>"
      ]
     },
     "metadata": {
      "needs_background": "light"
     },
     "output_type": "display_data"
    }
   ],
   "source": [
    "%matplotlib inline\n",
    "\n",
    "import matplotlib.pyplot as plt\n",
    "\n",
    "\n",
    "#fig, ax = plt.subplots()\n",
    "rmse_df.plot(x='h',y='rmse')#, ax=ax)\n",
    "plt.show()"
   ]
  },
  {
   "cell_type": "markdown",
   "metadata": {},
   "source": [
    "**TODO**: Comment on the effect of the number of hashes used in the minhash signature matrix and the error of the MinHash estimate.\n",
    "This appears to change with each run. On the first run the more hashes that were used the lower the mse was. Although there was a slight increase in the mse from 20-50 hashes. This means that in general the more hashes that are used the lower the error will be. On the second run the mse increased as the number of hashes went from 0-20 and than began to decrease as the number of hashes went from 20-100."
   ]
  },
  {
   "cell_type": "markdown",
   "metadata": {},
   "source": [
    "## Part 3: LSH\n",
    "\n",
    "Prepare article database for training file, using $k=10$ for shingles"
   ]
  },
  {
   "cell_type": "code",
   "execution_count": 18,
   "metadata": {},
   "outputs": [
    {
     "name": "stdout",
     "output_type": "stream",
     "text": [
      "Preparing Data\n"
     ]
    }
   ],
   "source": [
    "import plagiarism_lib.lsh_experiment as lsh_exp\n",
    "from plagiarism_lib.article_db import ArticleDB\n",
    "from plagiarism_lib.minhash import invert_shingles, MinHash\n",
    "from pathlib import Path\n",
    "\n",
    "numdocs = 1000\n",
    "trainfile = DATA_PATH + '/articles_%d.train' % numdocs\n",
    "\n",
    "k = 10\n",
    "print(\"Preparing Data\")\n",
    "artdb = ArticleDB(trainfile)\n",
    "inv_data, docids = invert_shingles(artdb.shingle_data(k))"
   ]
  },
  {
   "cell_type": "markdown",
   "metadata": {},
   "source": [
    "Compute the minhash signature matrix with 100 rows (hash functions)"
   ]
  },
  {
   "cell_type": "code",
   "execution_count": 19,
   "metadata": {},
   "outputs": [
    {
     "name": "stdout",
     "output_type": "stream",
     "text": [
      "Loading MH signature matrix from file\n"
     ]
    }
   ],
   "source": [
    "num_hash = 100\n",
    "mh_mat_file = RESDIR_PATH + '/mh_mat_%d_%d_%d.npy' % (numdocs, k, num_hash)\n",
    "\n",
    "mh = MinHash(num_hash)\n",
    "if Path(mh_mat_file).is_file():\n",
    "    print(\"Loading MH signature matrix from file\")\n",
    "    mh.from_file(docids, mh_mat_file)\n",
    "else:\n",
    "    print(\"Creating minhash matrix with %d hashes\" % num_hash)\n",
    "    mh.make_matrix((inv_data, docids), inverted=True) \n",
    "    mh.save_matrix(mh_mat_file)"
   ]
  },
  {
   "cell_type": "code",
   "execution_count": 20,
   "metadata": {},
   "outputs": [],
   "source": [
    "mh_df = pd.read_csv('result_data/mh_df.csv')"
   ]
  },
  {
   "cell_type": "code",
   "execution_count": 21,
   "metadata": {},
   "outputs": [
    {
     "data": {
      "text/html": [
       "<div>\n",
       "<style scoped>\n",
       "    .dataframe tbody tr th:only-of-type {\n",
       "        vertical-align: middle;\n",
       "    }\n",
       "\n",
       "    .dataframe tbody tr th {\n",
       "        vertical-align: top;\n",
       "    }\n",
       "\n",
       "    .dataframe thead th {\n",
       "        text-align: right;\n",
       "    }\n",
       "</style>\n",
       "<table border=\"1\" class=\"dataframe\">\n",
       "  <thead>\n",
       "    <tr style=\"text-align: right;\">\n",
       "      <th></th>\n",
       "      <th>doci</th>\n",
       "      <th>docj</th>\n",
       "      <th>js</th>\n",
       "      <th>mh_10</th>\n",
       "      <th>mh_20</th>\n",
       "      <th>mh_50</th>\n",
       "      <th>mh_100</th>\n",
       "    </tr>\n",
       "  </thead>\n",
       "  <tbody>\n",
       "    <tr>\n",
       "      <th>0</th>\n",
       "      <td>t120</td>\n",
       "      <td>t121</td>\n",
       "      <td>0.019282</td>\n",
       "      <td>0.50</td>\n",
       "      <td>0.425</td>\n",
       "      <td>0.49</td>\n",
       "      <td>0.435</td>\n",
       "    </tr>\n",
       "    <tr>\n",
       "      <th>1</th>\n",
       "      <td>t120</td>\n",
       "      <td>t122</td>\n",
       "      <td>0.002433</td>\n",
       "      <td>0.50</td>\n",
       "      <td>0.475</td>\n",
       "      <td>0.46</td>\n",
       "      <td>0.410</td>\n",
       "    </tr>\n",
       "    <tr>\n",
       "      <th>2</th>\n",
       "      <td>t120</td>\n",
       "      <td>t123</td>\n",
       "      <td>0.001127</td>\n",
       "      <td>0.50</td>\n",
       "      <td>0.450</td>\n",
       "      <td>0.47</td>\n",
       "      <td>0.400</td>\n",
       "    </tr>\n",
       "    <tr>\n",
       "      <th>3</th>\n",
       "      <td>t120</td>\n",
       "      <td>t124</td>\n",
       "      <td>0.000793</td>\n",
       "      <td>0.50</td>\n",
       "      <td>0.375</td>\n",
       "      <td>0.43</td>\n",
       "      <td>0.390</td>\n",
       "    </tr>\n",
       "    <tr>\n",
       "      <th>4</th>\n",
       "      <td>t120</td>\n",
       "      <td>t125</td>\n",
       "      <td>0.066785</td>\n",
       "      <td>0.45</td>\n",
       "      <td>0.450</td>\n",
       "      <td>0.45</td>\n",
       "      <td>0.385</td>\n",
       "    </tr>\n",
       "    <tr>\n",
       "      <th>...</th>\n",
       "      <td>...</td>\n",
       "      <td>...</td>\n",
       "      <td>...</td>\n",
       "      <td>...</td>\n",
       "      <td>...</td>\n",
       "      <td>...</td>\n",
       "      <td>...</td>\n",
       "    </tr>\n",
       "    <tr>\n",
       "      <th>499495</th>\n",
       "      <td>t9944</td>\n",
       "      <td>t9946</td>\n",
       "      <td>0.001132</td>\n",
       "      <td>0.50</td>\n",
       "      <td>0.500</td>\n",
       "      <td>0.47</td>\n",
       "      <td>0.485</td>\n",
       "    </tr>\n",
       "    <tr>\n",
       "      <th>499496</th>\n",
       "      <td>t9944</td>\n",
       "      <td>t9947</td>\n",
       "      <td>0.005220</td>\n",
       "      <td>0.45</td>\n",
       "      <td>0.500</td>\n",
       "      <td>0.44</td>\n",
       "      <td>0.435</td>\n",
       "    </tr>\n",
       "    <tr>\n",
       "      <th>499497</th>\n",
       "      <td>t9945</td>\n",
       "      <td>t9946</td>\n",
       "      <td>0.001472</td>\n",
       "      <td>0.45</td>\n",
       "      <td>0.500</td>\n",
       "      <td>0.45</td>\n",
       "      <td>0.460</td>\n",
       "    </tr>\n",
       "    <tr>\n",
       "      <th>499498</th>\n",
       "      <td>t9945</td>\n",
       "      <td>t9947</td>\n",
       "      <td>0.002175</td>\n",
       "      <td>0.50</td>\n",
       "      <td>0.500</td>\n",
       "      <td>0.45</td>\n",
       "      <td>0.455</td>\n",
       "    </tr>\n",
       "    <tr>\n",
       "      <th>499499</th>\n",
       "      <td>t9946</td>\n",
       "      <td>t9947</td>\n",
       "      <td>0.001757</td>\n",
       "      <td>0.45</td>\n",
       "      <td>0.500</td>\n",
       "      <td>0.44</td>\n",
       "      <td>0.450</td>\n",
       "    </tr>\n",
       "  </tbody>\n",
       "</table>\n",
       "<p>499500 rows × 7 columns</p>\n",
       "</div>"
      ],
      "text/plain": [
       "         doci   docj        js  mh_10  mh_20  mh_50  mh_100\n",
       "0        t120   t121  0.019282   0.50  0.425   0.49   0.435\n",
       "1        t120   t122  0.002433   0.50  0.475   0.46   0.410\n",
       "2        t120   t123  0.001127   0.50  0.450   0.47   0.400\n",
       "3        t120   t124  0.000793   0.50  0.375   0.43   0.390\n",
       "4        t120   t125  0.066785   0.45  0.450   0.45   0.385\n",
       "...       ...    ...       ...    ...    ...    ...     ...\n",
       "499495  t9944  t9946  0.001132   0.50  0.500   0.47   0.485\n",
       "499496  t9944  t9947  0.005220   0.45  0.500   0.44   0.435\n",
       "499497  t9945  t9946  0.001472   0.45  0.500   0.45   0.460\n",
       "499498  t9945  t9947  0.002175   0.50  0.500   0.45   0.455\n",
       "499499  t9946  t9947  0.001757   0.45  0.500   0.44   0.450\n",
       "\n",
       "[499500 rows x 7 columns]"
      ]
     },
     "execution_count": 21,
     "metadata": {},
     "output_type": "execute_result"
    }
   ],
   "source": [
    "mh_df"
   ]
  },
  {
   "cell_type": "markdown",
   "metadata": {},
   "source": [
    "**TODO**: Finish implementing function `plagiarism_lib.lsh._do_lsh` to implement Locality Sensitive Hashing.\n",
    "\n",
    "Once that is done, run an experiment of using LSH with desired similarity threshold values to detect plagiarism. Set `RUN_LSH_EXP=True` and run the following chunk."
   ]
  },
  {
   "cell_type": "code",
   "execution_count": 27,
   "metadata": {},
   "outputs": [],
   "source": [
    "# if YearWinLoseTotalHard2 != 0:\n",
    "#    YearWinLosePercent3 = float(YearWinLose1)/float(YearWinLoseTotalHard2)*100\n",
    "#else:\n",
    "#    print '0'\n",
    "\n",
    "import plagiarism_lib.lsh_experiment as lsh_exp\n",
    "\n",
    "DEFAULT_TS = [.01, .05, .10, .30, .50, .70, .90, .95, .99]\n",
    "\n",
    "truthfile = DATA_PATH + '/articles_%d.truth' % numdocs\n",
    "\n",
    "csv_file = RESDIR_PATH + '/csv_file.csv'\n",
    "\n",
    "RUN_LSH_EXP = False # I had to change this to false or I got a ZeroDivisionError: float division by zero\n",
    "if RUN_LSH_EXP:  \n",
    "    exp_df = lsh_exp.run(mh, truthfile, ts=DEFAULT_TS)\n",
    "    exp_df.to_csv(csv_file, index=False)\n",
    "else:\n",
    "    exp_df = pd.read_csv(csv_file)"
   ]
  },
  {
   "cell_type": "markdown",
   "metadata": {},
   "source": [
    "The following chunk plots precision and recall of this system as a function of the LSH threshold chosen. "
   ]
  },
  {
   "cell_type": "code",
   "execution_count": 28,
   "metadata": {},
   "outputs": [
    {
     "data": {
      "image/png": "[encoded data removed]",
      "text/plain": [
       "<Figure size 432x288 with 1 Axes>"
      ]
     },
     "metadata": {
      "needs_background": "light"
     },
     "output_type": "display_data"
    }
   ],
   "source": [
    "import matplotlib.pyplot as plt\n",
    "%matplotlib inline\n",
    "\n",
    "#exp_df = pd.read_csv('results_data/mh_df.csv')\n",
    "\n",
    "plot_df = exp_df.melt(id_vars=['t'])\n",
    "\n",
    "fig, ax = plt.subplots()\n",
    "labels = []\n",
    "\n",
    "for key, grp in plot_df.groupby('variable'):\n",
    "    ax = grp.plot(ax=ax, kind='line', x='t', y='value')\n",
    "    labels.append(key)\n",
    "lines, _ = ax.get_legend_handles_labels()\n",
    "ax.legend(lines, labels, loc='best')\n",
    "plt.show()"
   ]
  },
  {
   "cell_type": "markdown",
   "metadata": {},
   "source": [
    "**TODO**: Comment on the behavior of precision and recall as a function of similarity threshold.\n",
    "Initially when the similarity threshold is low the precision is also low meaning that there is a low number of true positives given the actual results. However, as the similarity threshold aproaches 0.3 the precision drastically increases until it reaches 1.0 around with a similarity threshold of .5. The recall appears to remain constant / perfect at 1, but this is unlikely and is possibly an error in the data. At some point an increase in the similarity threshold would likely impact the predicted results increaseing the number of true positives or false negatives.\n"
   ]
  },
  {
   "cell_type": "code",
   "execution_count": null,
   "metadata": {},
   "outputs": [],
   "source": []
  },
  {
   "cell_type": "code",
   "execution_count": null,
   "metadata": {},
   "outputs": [],
   "source": []
  },
  {
   "cell_type": "code",
   "execution_count": null,
   "metadata": {},
   "outputs": [],
   "source": []
  },
  {
   "cell_type": "code",
   "execution_count": null,
   "metadata": {},
   "outputs": [],
   "source": []
  },
  {
   "cell_type": "code",
   "execution_count": null,
   "metadata": {},
   "outputs": [],
   "source": []
  },
  {
   "cell_type": "code",
   "execution_count": null,
   "metadata": {},
   "outputs": [],
   "source": []
  },
  {
   "cell_type": "code",
   "execution_count": null,
   "metadata": {},
   "outputs": [],
   "source": []
  },
  {
   "cell_type": "code",
   "execution_count": null,
   "metadata": {},
   "outputs": [],
   "source": []
  },
  {
   "cell_type": "code",
   "execution_count": null,
   "metadata": {},
   "outputs": [],
   "source": [
    "# DELETE "
   ]
  },
  {
   "cell_type": "code",
   "execution_count": null,
   "metadata": {},
   "outputs": [],
   "source": [
    "from __future__ import division\n",
    "import os\n",
    "import re\n",
    "import random\n",
    "import time\n",
    "import binascii\n",
    "from bisect import bisect_right\n",
    "from heapq import heappop, heappush"
   ]
  },
  {
   "cell_type": "code",
   "execution_count": 112,
   "metadata": {},
   "outputs": [],
   "source": [
    "plagiaries = {}\n",
    "\n",
    "# Open the truth file.\n",
    "f = open(truth_file, \"r\")\n",
    "\n",
    "# For each line of the files...\n",
    "for line in f:\n",
    "  \n",
    "  # Strip the newline character, if present.\n",
    "    if line[-1] == '\\n':\n",
    "        line = line[0:-1]\n",
    "      \n",
    "    docs = line.split(\" \")\n",
    "\n",
    "  # Map the two documents to each other.\n",
    "\n",
    "    plagiaries[docs[0]] = docs[1]\n",
    "    plagiaries[docs[1]] = docs[0]\n"
   ]
  },
  {
   "cell_type": "code",
   "execution_count": 113,
   "metadata": {},
   "outputs": [
    {
     "name": "stdout",
     "output_type": "stream",
     "text": [
      "\n",
      "Shingling 1000 docs took 0.04 sec.\n",
      "\n",
      "Average shingles per doc: 77.28\n"
     ]
    }
   ],
   "source": [
    "# The current shingle ID value to assign to the next new shingle we \n",
    "# encounter. When a shingle gets added to the dictionary, we'll increment this\n",
    "# value.\n",
    "curShingleID = 0\n",
    "\n",
    "# Create a dictionary of the articles, mapping the article identifier (e.g., \n",
    "# \"t8470\") to the list of shingle IDs that appear in the document.\n",
    "docsAsShingleSets = {};\n",
    "  \n",
    "# Open the data file.\n",
    "f = open(train_file, \"r\")\n",
    "\n",
    "docNames = []\n",
    "\n",
    "t0 = time.time()\n",
    "\n",
    "totalShingles = 0\n",
    "\n",
    "for i in range(0, numDocs):\n",
    "  \n",
    "  # Read all of the words (they are all on one line) and split them by white\n",
    "  # space.\n",
    "    words = f.readline().split(\" \") \n",
    "  \n",
    "  # Retrieve the article ID, which is the first word on the line.  \n",
    "    docID = words[0]\n",
    "  \n",
    "  # Maintain a list of all document IDs.  \n",
    "    docNames.append(docID)\n",
    "    \n",
    "    del words[0]  \n",
    "  \n",
    "  # 'shinglesInDoc' will hold all of the unique shingle IDs present in the \n",
    "  # current document. If a shingle ID occurs multiple times in the document,\n",
    "  # it will only appear once in the set (this is a property of Python sets).\n",
    "    shinglesInDoc = set()\n",
    "  \n",
    "  # For each word in the document...\n",
    "for index in range(0, len(words) - 2):\n",
    "    # Construct the shingle text by combining three words together.\n",
    "    shingle = words[index] + \" \" + words[index + 1] + \" \" + words[index + 2]\n",
    "\n",
    "    # Hash the shingle to a 32-bit integer.\n",
    "    #crc = binascii.crc32(shingle) & 0xffffffff\n",
    "    #crc = CityHash32(shingle) - math.pow(2, 31)\n",
    "    crc = hash(shingle)\n",
    "    \n",
    "    # Add the hash value to the list of shingles for the current document. \n",
    "    # Note that set objects will only add the value to the set if the set \n",
    "    # doesn't alreadyshingle contain it. \n",
    "    shinglesInDoc.add(crc)\n",
    "  \n",
    "  # Store the completed list of shingles for this document in the dictionary.\n",
    "    docsAsShingleSets[docID] = shinglesInDoc\n",
    "  \n",
    "  # Count the number of shingles across all documents.\n",
    "    totalShingles = totalShingles + (len(words) - 2)\n",
    "\n",
    "# Close the data file.  \n",
    "f.close()  \n",
    "\n",
    "# Report how long shingling took.\n",
    "print('\\nShingling ' + str(numDocs) + ' docs took %.2f sec.' % (time.time() - t0))\n",
    " \n",
    "print('\\nAverage shingles per doc: %.2f' % (totalShingles / numDocs))"
   ]
  },
  {
   "cell_type": "code",
   "execution_count": 114,
   "metadata": {},
   "outputs": [],
   "source": [
    "# Define virtual Triangle matrices to hold the similarity values. For storing\n",
    "# similarities between pairs, we only need roughly half the elements of a full\n",
    "# matrix. Using a triangle matrix requires less than half the memory of a full\n",
    "# matrix, and can protect the programmer from inadvertently accessing one of\n",
    "# the empty/invalid cells of a full matrix.\n",
    "\n",
    "# Calculate the number of elements needed in our triangle matrix\n",
    "numElems = int(numDocs * (numDocs - 1) / 2)\n",
    "\n",
    "# Initialize two empty lists to store the similarity values. \n",
    "# 'JSim' will be for the actual Jaccard Similarity values. \n",
    "# 'estJSim' will be for the estimated Jaccard Similarities found by comparing\n",
    "# the MinHash signatures.\n",
    "JSim = [0 for x in range(numElems)]\n",
    "estJSim = [0 for x in range(numElems)]\n",
    "\n",
    "# Define a function to map a 2D matrix coordinate into a 1D index.\n",
    "def getTriangleIndex(i, j):\n",
    "  # If i == j that's an error.\n",
    "  if i == j:\n",
    "    sys.stderr.write(\"Can't access triangle matrix with i == j\")\n",
    "    sys.exit(1)\n",
    "  # If j < i just swap the values.\n",
    "  if j < i:\n",
    "    temp = i\n",
    "    i = j\n",
    "    j = temp\n",
    "  \n",
    "  # Calculate the index within the triangular array.\n",
    "  # This fancy indexing scheme is taken from pg. 211 of:\n",
    "  # http://infolab.stanford.edu/~ullman/mmds/ch6.pdf\n",
    "  # But I adapted it for a 0-based index.\n",
    "  # Note: The division by two should not truncate, it\n",
    "  #       needs to be a float. \n",
    "  k = int(i * (numDocs - (i + 1) / 2.0) + j - i) - 1\n",
    "  \n",
    "  return k"
   ]
  },
  {
   "cell_type": "code",
   "execution_count": 115,
   "metadata": {},
   "outputs": [
    {
     "name": "stdout",
     "output_type": "stream",
     "text": [
      "\n",
      "Calculating Jaccard Similarities...\n",
      "  (0 / 1000)\n",
      "  (100 / 1000)\n",
      "  (200 / 1000)\n",
      "  (300 / 1000)\n",
      "  (400 / 1000)\n",
      "  (500 / 1000)\n",
      "  (600 / 1000)\n",
      "  (700 / 1000)\n",
      "  (800 / 1000)\n",
      "  (900 / 1000)\n"
     ]
    }
   ],
   "source": [
    "# In this section, we will directly calculate the Jaccard similarities by \n",
    "# comparing the sets. This is included here to show how much slower it is than\n",
    "# the MinHash approach.\n",
    "\n",
    "# Calculating the Jaccard similarities gets really slow for large numbers\n",
    "# of documents.\n",
    "if numDocs <= 2500:\n",
    "#if True:\n",
    "    print(\"\\nCalculating Jaccard Similarities...\")\n",
    "\n",
    "    # Time the calculation.\n",
    "    t0 = time.time()\n",
    "\n",
    "    # For every document pair...\n",
    "    for i in range(0, numDocs):\n",
    "      \n",
    "      # Print progress every 100 documents.\n",
    "        if (i % 100) == 0:\n",
    "            print(\"  (\" + str(i) + \" / \" + str(numDocs) + \")\")\n",
    "\n",
    "      # Retrieve the set of shingles for document i.\n",
    "    s1 = docsAsShingleSets[docNames[i]]\n",
    "      \n",
    "    for j in range(i + 1, numDocs):\n",
    "        # Retrieve the set of shingles for document j.\n",
    "        s2 = docsAsShingleSets[docNames[j]]\n",
    "        \n",
    "        # Calculate and store the actual Jaccard similarity.\n",
    "        JSim[getTriangleIndex(i, j)] = (len(s1.intersection(s2)) / len(s1.union(s2)))    \n",
    "\n",
    "    # Calculate the elapsed time (in seconds)\n",
    "        elapsed = (time.time() - t0)\n",
    "        \n",
    "        print(\"\\nCalculating all Jaccard Similarities took %.2fsec\" % elapsed)\n",
    "\n",
    "# Delete the Jaccard Similarities, since it's a pretty big matrix.    \n",
    "del JSim\n",
    "    "
   ]
  },
  {
   "cell_type": "code",
   "execution_count": 118,
   "metadata": {},
   "outputs": [
    {
     "name": "stdout",
     "output_type": "stream",
     "text": [
      "\n",
      "Generating random hash functions...\n",
      "\n",
      "Generating MinHash signatures for all documents...\n"
     ]
    },
    {
     "ename": "KeyError",
     "evalue": "'t120'",
     "output_type": "error",
     "traceback": [
      "\u001b[1;31m---------------------------------------------------------------------------\u001b[0m",
      "\u001b[1;31mKeyError\u001b[0m                                  Traceback (most recent call last)",
      "\u001b[1;32m<ipython-input-118-8566224761c6>\u001b[0m in \u001b[0;36m<module>\u001b[1;34m\u001b[0m\n\u001b[0;32m     57\u001b[0m \u001b[1;33m\u001b[0m\u001b[0m\n\u001b[0;32m     58\u001b[0m   \u001b[1;31m# Get the shingle set for this document.\u001b[0m\u001b[1;33m\u001b[0m\u001b[1;33m\u001b[0m\u001b[1;33m\u001b[0m\u001b[0m\n\u001b[1;32m---> 59\u001b[1;33m     \u001b[0mshingleIDSet\u001b[0m \u001b[1;33m=\u001b[0m \u001b[0mdocsAsShingleSets\u001b[0m\u001b[1;33m[\u001b[0m\u001b[0mdocID\u001b[0m\u001b[1;33m]\u001b[0m\u001b[1;33m\u001b[0m\u001b[1;33m\u001b[0m\u001b[0m\n\u001b[0m\u001b[0;32m     60\u001b[0m \u001b[1;33m\u001b[0m\u001b[0m\n\u001b[0;32m     61\u001b[0m   \u001b[1;31m# The resulting minhash signature for this document.\u001b[0m\u001b[1;33m\u001b[0m\u001b[1;33m\u001b[0m\u001b[1;33m\u001b[0m\u001b[0m\n",
      "\u001b[1;31mKeyError\u001b[0m: 't120'"
     ]
    }
   ],
   "source": [
    "# Time this step.\n",
    "t0 = time.time()\n",
    "\n",
    "print('\\nGenerating random hash functions...')\n",
    "\n",
    "# Record the maximum shingle ID that we assigned.\n",
    "maxShingleID = 2**32-1\n",
    "\n",
    "# We need the next largest prime number above 'maxShingleID'.\n",
    "# I looked this value up here: \n",
    "# http://compoasso.free.fr/primelistweb/page/prime/liste_online_en.php\n",
    "nextPrime = 4294967311\n",
    "\n",
    "\n",
    "# Our random hash function will take the form of:\n",
    "#   h(x) = (a*x + b) % c\n",
    "# Where 'x' is the input value, 'a' and 'b' are random coefficients, and 'c' is\n",
    "# a prime number just greater than maxShingleID.\n",
    "\n",
    "# Generate a list of 'k' random coefficients for the random hash functions,\n",
    "# while ensuring that the same value does not appear multiple times in the \n",
    "# list.\n",
    "def pickRandomCoeffs(k):\n",
    "  # Create a list of 'k' random values.\n",
    "  randList = []\n",
    "  \n",
    "  while k > 0:\n",
    "    # Get a random shingle ID.\n",
    "    randIndex = random.randint(0, maxShingleID) \n",
    "  \n",
    "    # Ensure that each random number is unique.\n",
    "    while randIndex in randList:\n",
    "        randIndex = random.randint(0, maxShingleID) \n",
    "    \n",
    "    # Add the random number to the list.\n",
    "    randList.append(randIndex)\n",
    "    k = k - 1\n",
    "    \n",
    "    return randList\n",
    "\n",
    "# For each of the 'numHashes' hash functions, generate a different coefficient 'a' and 'b'.   \n",
    "coeffA = pickRandomCoeffs(numHashes)\n",
    "coeffB = pickRandomCoeffs(numHashes)\n",
    "\n",
    "print('\\nGenerating MinHash signatures for all documents...')\n",
    "\n",
    "# List of documents represented as signature vectors\n",
    "signatures = []\n",
    "\n",
    "# Rather than generating a random permutation of all possible shingles, \n",
    "# we'll just hash the IDs of the shingles that are *actually in the document*,\n",
    "# then take the lowest resulting hash code value. This corresponds to the index \n",
    "# of the first shingle that you would have encountered in the random order.\n",
    "\n",
    "# For each document...\n",
    "for docID in docNames:\n",
    "  \n",
    "  # Get the shingle set for this document.\n",
    "    shingleIDSet = docsAsShingleSets[docID]\n",
    "  \n",
    "  # The resulting minhash signature for this document. \n",
    "    signature = []\n",
    "  \n",
    "  # For each of the random hash functions...\n",
    "for i in range(0, numHashes):\n",
    "    \n",
    "    # For each of the shingles actually in the document, calculate its hash code\n",
    "    # using hash function 'i'. \n",
    "    \n",
    "    # Track the lowest hash ID seen. Initialize 'minHashCode' to be greater than\n",
    "    # the maximum possible value output by the hash.\n",
    "    minHashCode = nextPrime + 1\n",
    "    \n",
    "    # For each shingle in the document...\n",
    "for shingleID in shingleIDSet:\n",
    "      # Evaluate the hash function.\n",
    "    hashCode = (coeffA[i] * shingleID + coeffB[i]) % nextPrime \n",
    "      \n",
    "      # Track the lowest hash code seen.\n",
    "    if hashCode < minHashCode:\n",
    "        minHashCode = hashCode\n",
    "\n",
    "    # Add the smallest hash code value as component number 'i' of the signature.\n",
    "    signature.append(minHashCode)\n",
    "  \n",
    "  # Store the MinHash signature for this document.\n",
    "    signatures.append(signature)\n",
    "\n",
    "# Calculate the elapsed time (in seconds)\n",
    "elapsed = (time.time() - t0)\n",
    "        \n",
    "print(\"\\nGenerating MinHash signatures took %.2fsec\" % elapsed)"
   ]
  },
  {
   "cell_type": "code",
   "execution_count": 119,
   "metadata": {},
   "outputs": [
    {
     "name": "stdout",
     "output_type": "stream",
     "text": [
      "\n",
      "Comparing all signatures...\n"
     ]
    },
    {
     "ename": "IndexError",
     "evalue": "list index out of range",
     "output_type": "error",
     "traceback": [
      "\u001b[1;31m---------------------------------------------------------------------------\u001b[0m",
      "\u001b[1;31mIndexError\u001b[0m                                Traceback (most recent call last)",
      "\u001b[1;32m<ipython-input-119-73fb0481c06c>\u001b[0m in \u001b[0;36m<module>\u001b[1;34m\u001b[0m\n\u001b[0;32m      9\u001b[0m \u001b[1;32mfor\u001b[0m \u001b[0mi\u001b[0m \u001b[1;32min\u001b[0m \u001b[0mrange\u001b[0m\u001b[1;33m(\u001b[0m\u001b[1;36m0\u001b[0m\u001b[1;33m,\u001b[0m \u001b[0mnumDocs\u001b[0m\u001b[1;33m)\u001b[0m\u001b[1;33m:\u001b[0m\u001b[1;33m\u001b[0m\u001b[1;33m\u001b[0m\u001b[0m\n\u001b[0;32m     10\u001b[0m   \u001b[1;31m# Get the MinHash signature for document i.\u001b[0m\u001b[1;33m\u001b[0m\u001b[1;33m\u001b[0m\u001b[1;33m\u001b[0m\u001b[0m\n\u001b[1;32m---> 11\u001b[1;33m   \u001b[0msignature1\u001b[0m \u001b[1;33m=\u001b[0m \u001b[0msignatures\u001b[0m\u001b[1;33m[\u001b[0m\u001b[0mi\u001b[0m\u001b[1;33m]\u001b[0m\u001b[1;33m\u001b[0m\u001b[1;33m\u001b[0m\u001b[0m\n\u001b[0m\u001b[0;32m     12\u001b[0m \u001b[1;33m\u001b[0m\u001b[0m\n\u001b[0;32m     13\u001b[0m   \u001b[1;31m# For each of the other test documents...\u001b[0m\u001b[1;33m\u001b[0m\u001b[1;33m\u001b[0m\u001b[1;33m\u001b[0m\u001b[0m\n",
      "\u001b[1;31mIndexError\u001b[0m: list index out of range"
     ]
    }
   ],
   "source": [
    "\n",
    "print('\\nComparing all signatures...')\n",
    "  \n",
    "# Creates a N x N matrix initialized to 0.\n",
    "\n",
    "# Time this step.\n",
    "t0 = time.time()\n",
    "\n",
    "# For each of the test documents...\n",
    "for i in range(0, numDocs):\n",
    "  # Get the MinHash signature for document i.\n",
    "  signature1 = signatures[i]\n",
    "    \n",
    "  # For each of the other test documents...\n",
    "  for j in range(i + 1, numDocs):\n",
    "    \n",
    "    # Get the MinHash signature for document j.\n",
    "    signature2 = signatures[j]\n",
    "    \n",
    "    count = 0\n",
    "    # Count the number of positions in the minhash signature which are equal.\n",
    "    for k in range(0, numHashes):\n",
    "        count = count + (signature1[k] == signature2[k])\n",
    "    \n",
    "    # Record the percentage of positions which matched.    \n",
    "    estJSim[getTriangleIndex(i, j)] = (count / numHashes)\n",
    "\n",
    "# Calculate the elapsed time (in seconds)\n",
    "elapsed = (time.time() - t0)\n",
    "        \n",
    "print(\"\\nComparing MinHash signatures took %.2fsec\" % elapsed)"
   ]
  },
  {
   "cell_type": "code",
   "execution_count": 120,
   "metadata": {},
   "outputs": [
    {
     "ename": "IndentationError",
     "evalue": "expected an indented block (<ipython-input-120-ab167c4ff068>, line 13)",
     "output_type": "error",
     "traceback": [
      "\u001b[1;36m  File \u001b[1;32m\"<ipython-input-120-ab167c4ff068>\"\u001b[1;36m, line \u001b[1;32m13\u001b[0m\n\u001b[1;33m    for j in range(i + 1, numDocs):\u001b[0m\n\u001b[1;37m      ^\u001b[0m\n\u001b[1;31mIndentationError\u001b[0m\u001b[1;31m:\u001b[0m expected an indented block\n"
     ]
    }
   ],
   "source": [
    "# Count the true positives and false positives.\n",
    "tp = 0\n",
    "fp = 0\n",
    "  \n",
    "threshold = 0.5  \n",
    "print(\"\\nList of Document Pairs with J(d1,d2) more than\", threshold)\n",
    "print(\"Values shown are the estimated Jaccard similarity and the actual\")\n",
    "print(\"Jaccard similarity.\\n\")\n",
    "print(\"Est. J   Act. J\")\n",
    "\n",
    "# For each of the document pairs...\n",
    "for i in range(0, numDocs):  \n",
    "for j in range(i + 1, numDocs):\n",
    "    # Retrieve the estimated similarity value for this pair.\n",
    "    estJ = estJSim[getTriangleIndex(i, j)]\n",
    "    \n",
    "    # If the similarity is above the threshold...\n",
    "    if estJ > threshold:\n",
    "    \n",
    "      # Calculate the actual Jaccard similarity for validation.\n",
    "        s1 = docsAsShingleSets[docNames[i]]\n",
    "        s2 = docsAsShingleSets[docNames[j]]\n",
    "        J = (len(s1.intersection(s2)) / len(s1.union(s2)))\n",
    "      \n",
    "      # Print out the match and similarity values with pretty spacing.\n",
    "        print(\"  %5s --> %5s   %.2f     %.2f\" % (docNames[i], docNames[j], estJ, J))\n",
    "      \n",
    "      # Check whether this is a true positive or false positive.\n",
    "      # We don't need to worry about counting the same true positive twice\n",
    "      # because we implemented the for-loops to only compare each pair once.\n",
    "    if plagiaries[docNames[i]] == docNames[j]:\n",
    "        tp = tp + 1\n",
    "    else:\n",
    "        fp = fp + 1\n",
    "\n",
    "# Display true positive and false positive counts.\n",
    "print(\"True positives:  \" + str(tp) + \" / \" + str(int(len(plagiaries.keys()) / 2)))\n",
    "print(\"False positives: \" + str(fp))"
   ]
  },
  {
   "cell_type": "code",
   "execution_count": null,
   "metadata": {},
   "outputs": [],
   "source": []
  },
  {
   "cell_type": "code",
   "execution_count": null,
   "metadata": {},
   "outputs": [],
   "source": []
  }
 ],
 "metadata": {
  "kernelspec": {
   "display_name": "Python 3",
   "language": "python",
   "name": "python3"
  },
  "language_info": {
   "codemirror_mode": {
    "name": "ipython",
    "version": 3
   },
   "file_extension": ".py",
   "mimetype": "text/x-python",
   "name": "python",
   "nbconvert_exporter": "python",
   "pygments_lexer": "ipython3",
   "version": "3.7.6"
  }
 },
 "nbformat": 4,
 "nbformat_minor": 4
}
